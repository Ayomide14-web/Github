{
 "cells": [
  {
   "cell_type": "code",
   "execution_count": 63,
   "id": "1261a052-9ab2-42ca-a7f0-67482153ada1",
   "metadata": {},
   "outputs": [
    {
     "name": "stdout",
     "output_type": "stream",
     "text": [
      "Welcome to the PCOS Prediction System!\n"
     ]
    },
    {
     "name": "stdin",
     "output_type": "stream",
     "text": [
      "Enter your weight(Kg):  13\n",
      "Rank your Milk Product consumption (1-7):  2\n",
      "Rank your Vegetable consumption (1-7):  2\n",
      "Rank your Fruit consumption (1-7):  2\n",
      "Rank your Fat consumption (1-7):  4\n",
      "Rank your Fat consumption (1-7):  6\n",
      "How often do you exercise? (rarely, daily, 1-2 times a week, 3-4 times a week):  6\n",
      "Do you smoke? (Yes/No):  yes\n",
      "Do you experience Stress frequently? (Yes/No):  no\n",
      "Do you go through Menstrual Irregularity? (Yes/No):  yes\n"
     ]
    },
    {
     "name": "stdout",
     "output_type": "stream",
     "text": [
      "Prediction: Low Risk PCOS\n",
      "Keep maintaining a healthy lifestyle\n"
     ]
    }
   ],
   "source": [
    "# Function to check PCOS(Polycystic ovary syndrome) \n",
    "print(\"Welcome to the PCOS Prediction System!\")\n",
    "\n",
    "# User input\n",
    "weight= float(input(\"Enter your weight(Kg): \"))\n",
    "diet_milk_product=int(input(\"Rank your Milk Product consumption (1-7): \"))\n",
    "diet_vegetable=int(input(\"Rank your Vegetable consumption (1-7): \"))\n",
    "diet_fruit=int(input(\"Rank your Fruit consumption (1-7): \"))                 \n",
    "diet_fat=int(input(\"Rank your Fat consumption (1-7): \"))   \n",
    "diet_fried_food =int(input(\"Rank your Fat consumption (1-7): \"))\n",
    "exercise= input(\"How often do you exercise? (rarely, daily, 1-2 times a week, 3-4 times a week): \").strip().lower()\n",
    "smoking= input(\"Do you smoke? (Yes/No): \").strip().lower()\n",
    "stress_level=input(\"Do you experience Stress frequently? (Yes/No): \").strip().lower()\n",
    "menstrual_irregularity=input(\"Do you go through Menstrual Irregularity? (Yes/No): \").strip().lower()\n",
    "\n",
    "# Simple encoding\n",
    "exercise_encoded={\"rarely\":0, \"daily\":3, \"1-2 times a week\":1, \"3-4 times a week\":2}.get(exercise,0)\n",
    "stress_encoded=1 if stress_level==\"yes\" else 0\n",
    "smoking_encoded=1 if smoking==\"yes\" else 0\n",
    "menstrual_encoded=1 if menstrual_irregularity==\"yes\" else 0\n",
    "\n",
    "# Manual prediction logic(replace with ML model if needed)\n",
    "risk_score=weight*0.1+diet_fried_food+diet_fat-diet_vegetable-diet_fruit-exercise_encoded+stress_encoded+menstrual_encoded\n",
    "\n",
    "#THreshold for High-Risk PCOS (This is an example; you can adjust based on data)\n",
    "if risk_score>10: \n",
    "     print(\"Prediction: High Risk of PCOS\")\n",
    "     print(\"Suggested Advice: \")\n",
    "     print(\"Reduce Fried and Fatty foods\")\n",
    "     print(\"Increase intake of fresh vegetable and fruits\")\n",
    "     print(\"Engage in regular exercise(at least 3-4 times a week.\")\n",
    "     print(\"Reduce Stress through yoga, meditation or therapy.\")\n",
    "     print(\"Consult a gynecologist for personalize medical advice.\")\n",
    "else:\n",
    "    print(\"Prediction: Low Risk PCOS\")\n",
    "    print(\"Keep maintaining a healthy lifestyle\")"
   ]
  },
  {
   "cell_type": "code",
   "execution_count": null,
   "id": "970d6a3d-6f2e-4d80-be61-fc0068962e4e",
   "metadata": {},
   "outputs": [],
   "source": []
  }
 ],
 "metadata": {
  "kernelspec": {
   "display_name": "Python 3 (ipykernel)",
   "language": "python",
   "name": "python3"
  },
  "language_info": {
   "codemirror_mode": {
    "name": "ipython",
    "version": 3
   },
   "file_extension": ".py",
   "mimetype": "text/x-python",
   "name": "python",
   "nbconvert_exporter": "python",
   "pygments_lexer": "ipython3",
   "version": "3.12.4"
  }
 },
 "nbformat": 4,
 "nbformat_minor": 5
}
